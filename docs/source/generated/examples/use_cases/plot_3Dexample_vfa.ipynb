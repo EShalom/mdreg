{
  "cells": [
    {
      "cell_type": "markdown",
      "metadata": {},
      "source": [
        "\n# Example 3D data: Variable Flip Angle\n\nThis example illustrates coregistration of a 3D Variable Flip Angle (VFA) dataset. \nThe data is fetched using the `fetch` function, and the desired slice is extracted from the data array. \nThe VFA parameters are defined, and the coregistration parameters are set. \nThe model-driven coregistration is performed, and the results are visualized.\n"
      ]
    },
    {
      "cell_type": "markdown",
      "metadata": {},
      "source": [
        "## Import packages and data\nExample data can be easily loaded in using the `fetch` function.\n\n"
      ]
    },
    {
      "cell_type": "code",
      "execution_count": null,
      "metadata": {
        "collapsed": false
      },
      "outputs": [],
      "source": [
        "import numpy as np\nimport mdreg\nimport time\n\ndata = mdreg.fetch('VFA')"
      ]
    },
    {
      "cell_type": "markdown",
      "metadata": {},
      "source": [
        "## Extract the desired slice from the data array\nAs an intial step, we will extract the 4D data (x,y,z,t) from the fetched data dictionary.\n\n"
      ]
    },
    {
      "cell_type": "code",
      "execution_count": null,
      "metadata": {
        "collapsed": false
      },
      "outputs": [],
      "source": [
        "array = data['array']"
      ]
    },
    {
      "cell_type": "markdown",
      "metadata": {},
      "source": [
        "## Signal model theory\nThe signal model used in this example is the non-linear variable flip angle SPGR model.\nThe signal model is defined by the following equation:\n\n\n$S(\\phi)=S_{0} \\frac{\\sin{\\phi}e^{-\\frac{T_{R}}{T_{1}}}}{1-\\cos{\\phi}e^{-\\frac{T_{R}}{T_{1}}}}$\n\nWhere $S$ is the signal, $S_{0}$ the initial signal, $\\phi$ the flip angle,\n$T_{R}$ the reptition time and $T_{1}$ the longitudinal relaxtion time.  Using this equation,\n$T_{1}$ and $S_{0}$ are optimised via a least squares method.\n\n\n"
      ]
    },
    {
      "cell_type": "markdown",
      "metadata": {},
      "source": [
        "## Define model fit parameters\nThe image fitting settings dictionary (`vfa_fit` in this case) is required by `mdreg.fit` to fit a specific signal model to the data.\nLeaving this as None will fit a constant model to the data as a default.\n\nHere, we select the model function `func` to be the non-linear varaible flip angle SPGR model from the model library (`mdreg.spgr_vfa_nonlin`).\nThis model fit requires the flip angle values in radians (`FA`) and the repetition time in seconds (`TR`).\nThis information is provided in the `data` dictionary for this example\n\n"
      ]
    },
    {
      "cell_type": "code",
      "execution_count": null,
      "metadata": {
        "collapsed": false
      },
      "outputs": [],
      "source": [
        "vfa_fit = {\n    'func': mdreg.spgr_vfa_nonlin,  # The function to fit the data\n    'FA': np.deg2rad(np.array(data['FA'])),  # The FA values in radians\n    'TR': 3.71/1000  # The TR value in seconds\n}"
      ]
    },
    {
      "cell_type": "markdown",
      "metadata": {},
      "source": [
        "## Define the coregistration parameters\nThe coregistration parameters are set in the `coreg_params` dictionary.\nThe `package` key specifies the coregistration package to be used, with a choice of elastix, skimage, or dipy.\nThe `params` key specifies the parameters required by the chosen coregistration package. Here None is used to \nspecify default parameters for freeform registration included by `mdreg`.\nHere, we use the elastix package with the following parameters:\n\n"
      ]
    },
    {
      "cell_type": "code",
      "execution_count": null,
      "metadata": {
        "collapsed": false
      },
      "outputs": [],
      "source": [
        "print(data['spacing'])\n\ncoreg_params = {\n    'package': 'elastix',\n    'params': None,\n}"
      ]
    },
    {
      "cell_type": "markdown",
      "metadata": {},
      "source": [
        "## Define the plotting parameters\nThe plotting parameters are set in the `plot_settings` dictionary.\nThe `interval` key specifies the time interval between frames in milliseconds, and the `vmin`/`vmax` keys specify the minimum/maximum value of the colorbar.\nThe `slice` key specifies the slice to be displayed in the animation. If unset or set to None, the central slice is displayed by default.\nIf you are interested to save the resulting animation, you can use the `path` key to the desired file path and the `filename` key to the desired filename.\nAs a default these are set to None resulting in the animation being displayed on screen only.\nFor more plotting keyword arguements, see the `mdreg.plot` module.\n\n\n"
      ]
    },
    {
      "cell_type": "code",
      "execution_count": null,
      "metadata": {
        "collapsed": false
      },
      "outputs": [],
      "source": [
        "plot_settings = {\n    'interval' : 500,\n    'vmin' : 0,\n    'vmax' : np.percentile(array,99),\n    'slice' : 10,\n    'path' : None,\n    'show' : True,\n}"
      ]
    },
    {
      "cell_type": "markdown",
      "metadata": {},
      "source": [
        "## Perform model-driven coregistration\nThe `mdreg.fit` function is used to perform the model-driven coregistration.\nThe function requires the 4D data array, the fit_image dictionary, and the coregistration parameters we have already defined.\nThe `verbose` parameter can be set to 0, 1, 2, or 3 to control the level of output.\n\n"
      ]
    },
    {
      "cell_type": "code",
      "execution_count": null,
      "metadata": {
        "collapsed": false
      },
      "outputs": [],
      "source": [
        "non_lin_time = time.time()\n\ncoreg_nonlin, defo_nonlin, fit_nonlin, pars_nonlin = mdreg.fit(array,\n                                                                fit_image=vfa_fit, \n                                                                fit_coreg=coreg_params, \n                                                                maxit=3, \n                                                                verbose=0)\n\nprint(f\"Non linear fitting time elapsed: {(time.time() - non_lin_time):.3}s\")"
      ]
    },
    {
      "cell_type": "markdown",
      "metadata": {},
      "source": [
        "## Visualise coregistration results\nTo easily visualise the output of the employ the `mdreg.plot` module to easily \nproduce animations that render on screen or save as a gif.\nHere we utilise `mdreg.plot_series` which accepts both 2D and 3D spatial data arrays \nwhich change over an additional dimension (e.g. time or FA in this case). \nThis displays the orginal data, the fitted data and the coregistered data. For the case of 3D data,\nthe function will display the central slice over the additional dimension\nunless an alternative slice is specified in the plotting parameters.\n\n\n"
      ]
    },
    {
      "cell_type": "code",
      "execution_count": null,
      "metadata": {
        "collapsed": false
      },
      "outputs": [],
      "source": [
        "mdreg.plot_series(array, fit_nonlin, coreg_nonlin, **plot_settings)"
      ]
    },
    {
      "cell_type": "markdown",
      "metadata": {},
      "source": [
        "## Optimising the fitting process\nApplying this non-linear fitting in a pixel wise approach quickly becomes unfeasible with dynamic 3D\nseries due to size of the datasets.\n\nA linearised fitting approach can offer some efficiency gains. The above relationship can be rearranged to give:\n\n$S\\frac{\\cos{\\phi}}{\\sin{\\phi}}=M S\\sin{\\phi}+C$\n\nThis takes the form: $Y=MX+C$. Which can be easily solved for using linear methods.\n\nIn this case the slope and intercept terms are defined as:\n\n$M=(\\frac{1}{E});~~~~C=\\frac{(1-E)}{E}~$. $~~~~$ Where $E=e^{\\frac{-T_{R}}{T_{1}}}~$.\n\nThe fitted intercept and slope terms are then used to calculate the fitted signal $S$.\n\n$S(\\phi)=\\frac{C\\sin{\\phi}}{\\cos{\\phi}-M}$\n\n\n"
      ]
    },
    {
      "cell_type": "markdown",
      "metadata": {},
      "source": [
        "## Compare with the linearised model\nA linearised model can also be used to fit the data. \nDefined in the `mdreg.spgr_vfa_lin` function, this model also requires the flip angle values in radians (`FA`).\n\nThe `mdreg` model fit parameters require deifnition as before, but the `func` key is now set to `mdreg.spgr_vfa_lin`.\n\nWe utilise the same plotting parameters as before.\n\n"
      ]
    },
    {
      "cell_type": "code",
      "execution_count": null,
      "metadata": {
        "collapsed": false
      },
      "outputs": [],
      "source": [
        "vfa_lin_fit = {\n    'func': mdreg.spgr_vfa_lin,  # The function to fit the data\n    'FA': np.deg2rad(np.array(data['FA'])),  # The FA values in radians\n    }\n\nlin_time = time.time()\n\ncoreg_lin, defo_lin, fit_lin, pars_lin = mdreg.fit(array, \n                                                   fit_image=vfa_lin_fit, \n                                                   fit_coreg=coreg_params,\n                                                   maxit=1, \n                                                   verbose=0,\n                                                   plot_params=plot_settings)\n\nprint(f\"Linear fitting time elapsed: {(time.time() - lin_time):.3}s\")"
      ]
    },
    {
      "cell_type": "markdown",
      "metadata": {},
      "source": [
        "## Visualize the results\nAgain the `mdreg.plot_series` function can be used to visualize the results of the coregistration.\nHere are shown the results of the linearised model fits.\n\n"
      ]
    },
    {
      "cell_type": "code",
      "execution_count": null,
      "metadata": {
        "collapsed": false
      },
      "outputs": [],
      "source": [
        "mdreg.plot_series(array, fit_lin, coreg_lin, **plot_settings)"
      ]
    }
  ],
  "metadata": {
    "kernelspec": {
      "display_name": "Python 3",
      "language": "python",
      "name": "python3"
    },
    "language_info": {
      "codemirror_mode": {
        "name": "ipython",
        "version": 3
      },
      "file_extension": ".py",
      "mimetype": "text/x-python",
      "name": "python",
      "nbconvert_exporter": "python",
      "pygments_lexer": "ipython3",
      "version": "3.10.10"
    }
  },
  "nbformat": 4,
  "nbformat_minor": 0
}